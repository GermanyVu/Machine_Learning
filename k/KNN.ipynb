{
 "cells": [
  {
   "cell_type": "code",
   "execution_count": 1,
   "metadata": {},
   "outputs": [],
   "source": [
    "from collections import Counter\n",
    "import math\n",
    "import statistics as stat\n",
    "import pandas as pd\n",
    "import matplotlib.pyplot as plt\n",
    "import numpy as np\n",
    "dir_path = 'training_data/'\n",
    "data = pd.read_csv(dir_path+'knn_data.csv')\n",
    "df = pd.DataFrame(data)\n",
    "#df.sort_values(by=df.columns[2]) # good to know"
   ]
  },
  {
   "cell_type": "code",
   "execution_count": 2,
   "metadata": {},
   "outputs": [],
   "source": [
    "def _distance (x_array, y_array, query):\n",
    "    distance = np.sqrt((x_array - query[0])**2 + (y_array - query[1])**2 )\n",
    "    return distance\n",
    "\n",
    "def knn(data, query):\n",
    "    x_array = np.array(data.iloc[:,0])\n",
    "    y_array = np.array(data.iloc[:,1])\n",
    "    distance_array = _distance(x_array, y_array, query)\n",
    "    data['distance'] = distance_array\n",
    "    data = data.sort_values(by=['distance'])\n",
    "    query_label = stat.mode(data['label'][0:6])\n",
    "    return query_label\n",
    "\n",
    "def my_plot(df):\n",
    "    df_1 = df[df.label == 0 ]\n",
    "    df_2 = df[df.label == 1 ]\n",
    "    \n",
    "    x_1 = np.array(df_1.iloc[:,0])\n",
    "    y_1 = np.array(df_1.iloc[:,1])\n",
    "    x_2 = np.array( df_2.iloc[:,0])\n",
    "    y_2 = np.array(df_2.iloc[:,1])\n",
    "    col_list = list(df.columns)\n",
    "\n",
    "    plt.xlabel(col_list[0])\n",
    "    plt.ylabel(col_list[1])\n",
    "    plt.scatter(x_1,y_1,color='g')\n",
    "    plt.scatter(x_2,y_2,color='b')\n",
    "    plt.show()\n",
    "# def testing(test_data):\n",
    "#     tes\n",
    "    \n",
    "    \n",
    "    "
   ]
  },
  {
   "cell_type": "code",
   "execution_count": 4,
   "metadata": {},
   "outputs": [
    {
     "data": {
      "image/png": "[encoded data removed]",
      "text/plain": [
       "<Figure size 432x288 with 1 Axes>"
      ]
     },
     "metadata": {
      "needs_background": "light"
     },
     "output_type": "display_data"
    },
    {
     "name": "stdout",
     "output_type": "stream",
     "text": [
      "1\n"
     ]
    }
   ],
   "source": [
    "query=[20,164]\n",
    "my_plot(df)\n",
    "query_label = knn(df, query)\n",
    "print(query_label)"
   ]
  },
  {
   "cell_type": "code",
   "execution_count": null,
   "metadata": {},
   "outputs": [],
   "source": []
  },
  {
   "cell_type": "code",
   "execution_count": null,
   "metadata": {},
   "outputs": [],
   "source": []
  }
 ],
 "metadata": {
  "kernelspec": {
   "display_name": "Python 3",
   "language": "python",
   "name": "python3"
  },
  "language_info": {
   "codemirror_mode": {
    "name": "ipython",
    "version": 3
   },
   "file_extension": ".py",
   "mimetype": "text/x-python",
   "name": "python",
   "nbconvert_exporter": "python",
   "pygments_lexer": "ipython3",
   "version": "3.8.5"
  }
 },
 "nbformat": 4,
 "nbformat_minor": 4
}
