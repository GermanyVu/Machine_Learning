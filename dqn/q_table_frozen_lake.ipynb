{
 "cells": [
  {
   "cell_type": "code",
   "execution_count": 1,
   "metadata": {},
   "outputs": [],
   "source": [
    "# Importing the required libraries\n",
    "\n",
    "import gym\n",
    "\n",
    "import numpy as np\n",
    "\n",
    "import matplotlib.pyplot as plt"
   ]
  },
  {
   "cell_type": "code",
   "execution_count": 2,
   "metadata": {},
   "outputs": [],
   "source": [
    "env = gym.make('FrozenLake-v1',map_name=\"4x4\")"
   ]
  },
  {
   "cell_type": "code",
   "execution_count": 3,
   "metadata": {},
   "outputs": [
    {
     "name": "stdout",
     "output_type": "stream",
     "text": [
      "Total number of States : 16\n",
      "Total number of Actions : 4\n"
     ]
    }
   ],
   "source": [
    "number_of_states = env.observation_space.n\n",
    "\n",
    "number_of_actions = env.action_space.n\n",
    "\n",
    "# checking the total number of states and action\n",
    "\n",
    "print('Total number of States : {}'.format(number_of_states))\n",
    "\n",
    "print('Total number of Actions : {}'.format(number_of_actions))"
   ]
  },
  {
   "cell_type": "code",
   "execution_count": 12,
   "metadata": {},
   "outputs": [
    {
     "name": "stdout",
     "output_type": "stream",
     "text": [
      "[[0. 0. 0. 0.]\n",
      " [0. 0. 0. 0.]\n",
      " [0. 0. 0. 0.]\n",
      " [0. 0. 0. 0.]\n",
      " [0. 0. 0. 0.]\n",
      " [0. 0. 0. 0.]\n",
      " [0. 0. 0. 0.]\n",
      " [0. 0. 0. 0.]\n",
      " [0. 0. 0. 0.]\n",
      " [0. 0. 0. 0.]\n",
      " [0. 0. 0. 0.]\n",
      " [0. 0. 0. 0.]\n",
      " [0. 0. 0. 0.]\n",
      " [0. 0. 0. 0.]\n",
      " [0. 0. 0. 0.]\n",
      " [0. 0. 0. 0.]]\n",
      "shape of Q table : (16, 4)\n"
     ]
    }
   ],
   "source": [
    "# Creation of Q table\n",
    "\n",
    "Q_TABLE = np.zeros([number_of_states, number_of_actions])\n",
    "\n",
    "# Looking at the initial values Q table\n",
    "\n",
    "print(Q_TABLE)\n",
    "\n",
    "print('shape of Q table : {}'.format(Q_TABLE.shape))"
   ]
  },
  {
   "cell_type": "code",
   "execution_count": 18,
   "metadata": {},
   "outputs": [],
   "source": [
    "# Setting the Hyper parameter Values for Q Learning\n",
    "\n",
    "NUMBER_OF_EPISODES = 10000\n",
    "\n",
    "MAX_STEPS = 200\n",
    "\n",
    "LEARNING_RATE = 0.3\n",
    "\n",
    "DISCOUNT_FACTOR = 0.99\n",
    "\n",
    "EGREEDY = 1\n",
    "\n",
    "MAX_EGREEDY = 1\n",
    "\n",
    "MIN_EGREEDY = 0.001\n",
    "\n",
    "EGREEDY_DECAY_RATE = 0.001"
   ]
  },
  {
   "cell_type": "code",
   "execution_count": null,
   "metadata": {},
   "outputs": [],
   "source": []
  },
  {
   "cell_type": "markdown",
   "metadata": {},
   "source": [
    "# \n",
    "gym.Env\n",
    "\n",
    "RETURNS:\n",
    "observation (object) – this will be an element of the environment’s observation_space. \n",
    "                This may, for instance, be a numpy array containing the positions and velocities of certain objects.\n",
    "\n",
    "reward (float) – The amount of reward returned as a result of taking the action.\n",
    "\n",
    "terminated (bool) – whether a terminal state (as defined under the MDP of the task) is reached. \n",
    "                In this case further step() calls could return undefined results.\n",
    "\n",
    "truncated (bool) – whether a truncation condition outside the scope of the MDP is satisfied. \n",
    "                    Typically a timelimit, but could also be used to indicate agent physically going out of bounds. Can be used to end the episode prematurely before a terminal state is reached.\n",
    "\n",
    "info (dictionary) – info contains auxiliary diagnostic information (helpful for debugging,\n",
    "                learning, and logging). This might, for instance, contain: metrics that describe the agent’s'''"
   ]
  },
  {
   "cell_type": "code",
   "execution_count": 19,
   "metadata": {},
   "outputs": [],
   "source": [
    "'''\n",
    "Create a for loop to iterate for NUMBER_OF_EPISODES. \n",
    "    \n",
    "Reset the environment and set the done flag equal to False \n",
    "and current_episode_rewards as zero.\n",
    "\n",
    "Create another for loop to run a single episode for MAX_STEPS. \n",
    "\n",
    "Inside the for loop, choose the best action using the \n",
    "epsilon-greedy strategy. \n",
    "\n",
    "Perform the action and update the Q values using the equation shown in Figure 9.18. Collect \n",
    "the reward and assign new_state as the current state. \n",
    "\n",
    "If the episode is over, break out from the loop, else \n",
    "continue taking the steps. Decay the epsilon value to\n",
    "be able to continue for the next episode:\n",
    "'''\n",
    "# Creating empty lists to store rewards of all episodes\n",
    "\n",
    "rewards_all_episodes = []\n",
    "\n",
    "# Creating empty lists to store egreedy_values of all episodes\n",
    "\n",
    "egreedy_values = []\n",
    "# Training Process\n",
    "for episode in range(NUMBER_OF_EPISODES):\n",
    "    state = env.reset()[0]  #This resets the environment, \n",
    "                     #so the environment will be at the starting state.\n",
    "    done = False\n",
    "    current_episode_rewards = 0\n",
    "    for step in range(MAX_STEPS):\n",
    "        random_for_egreedy = np.random.rand() # uniform distribution 0 to 1\n",
    "        \n",
    "        if random_for_egreedy > EGREEDY:\n",
    "            action = np.argmax(Q_TABLE[state,:]) # use q table to look up max and exploit\n",
    "           # print('q table',Q_TABLE[state,:] )\n",
    "        else:\n",
    "            action = env.action_space.sample() # random allowable action\n",
    "        \n",
    "        new_state, reward, done,_,info = env.step(action)            \n",
    "        \n",
    "        # Q(s,a) = (1-alpha)*Q(s,a) + alpha(r +gamma*maxQ(s',a')\n",
    "        Q_TABLE[state, action] = (1 - LEARNING_RATE) \\\n",
    "                                * Q_TABLE[state, action] \\\n",
    "                                + LEARNING_RATE \\\n",
    "                                * (reward + DISCOUNT_FACTOR \\\n",
    "                                * np.max(Q_TABLE[new_state,:]))\n",
    "        state = new_state\n",
    "        current_episode_rewards += reward\n",
    "\n",
    "        if done: \n",
    "            break\n",
    "#     print(current_episode_rewards)\n",
    "\n",
    "    egreedy_values.append(EGREEDY)\n",
    "    EGREEDY = MIN_EGREEDY + (MAX_EGREEDY - MIN_EGREEDY) \\\n",
    "                            * np.exp(-EGREEDY_DECAY_RATE*episode) # a way to decay the the epsilon\n",
    "    rewards_all_episodes.append(current_episode_rewards)\n",
    "\n"
   ]
  },
  {
   "cell_type": "code",
   "execution_count": null,
   "metadata": {},
   "outputs": [],
   "source": [
    "rewards_all_episodes"
   ]
  },
  {
   "cell_type": "code",
   "execution_count": 20,
   "metadata": {},
   "outputs": [],
   "source": [
    "def rewards_split(rewards_all_episodes , total_episodes , split):\n",
    "    '''\n",
    "    To split and calculate average reward or percentage of\n",
    "\n",
    "    completed rewards per splits\n",
    "\n",
    "    inputs:\n",
    "\n",
    "    rewards_all_episodes - all the per episode rewards\n",
    "\n",
    "    total_episodes - total of episodes\n",
    "\n",
    "    split - number of splits on which we will check the reward\n",
    "\n",
    "    returns:\n",
    "\n",
    "    average reward of percentage of completed rewards per splits\n",
    "    '''\n",
    "\n",
    "    splitted = np.split(np.array(rewards_all_episodes),total_episodes/split)\n",
    "    print('total episode',total_episodes)\n",
    "    print('splitted' , len(splitted))\n",
    " \n",
    "    avg_reward_per_splits = []\n",
    "    for rewards in splitted:\n",
    "        avg_reward_per_splits.append(np.sum(rewards)/split)\n",
    "   \n",
    "    return avg_reward_per_splits\n",
    "\n"
   ]
  },
  {
   "cell_type": "code",
   "execution_count": 21,
   "metadata": {},
   "outputs": [
    {
     "name": "stdout",
     "output_type": "stream",
     "text": [
      "total episode 10000\n",
      "splitted 10\n"
     ]
    }
   ],
   "source": [
    "\n",
    "avg_reward_per_splits = rewards_split(rewards_all_episodes , NUMBER_OF_EPISODES , 1000)"
   ]
  },
  {
   "cell_type": "code",
   "execution_count": 22,
   "metadata": {},
   "outputs": [
    {
     "data": {
      "image/png": "[encoded data removed]",
      "text/plain": [
       "<Figure size 864x360 with 1 Axes>"
      ]
     },
     "metadata": {
      "needs_background": "light"
     },
     "output_type": "display_data"
    }
   ],
   "source": [
    "plt.figure(figsize=(12,5))\n",
    "\n",
    "plt.title(\"% of Episodes completed\")\n",
    "\n",
    "plt.plot(np.arange(len(avg_reward_per_splits)), \\\n",
    "        avg_reward_per_splits, 'o-')\n",
    "\n",
    "plt.show()"
   ]
  },
  {
   "cell_type": "code",
   "execution_count": 10,
   "metadata": {},
   "outputs": [
    {
     "data": {
      "image/png": "[encoded data removed]",
      "text/plain": [
       "<Figure size 864x360 with 1 Axes>"
      ]
     },
     "metadata": {
      "needs_background": "light"
     },
     "output_type": "display_data"
    }
   ],
   "source": [
    "plt.figure(figsize=(12,5))\n",
    "\n",
    "plt.title(\"Egreedy value\")\n",
    "\n",
    "plt.bar(np.arange(len(egreedy_values)), egreedy_values, \\\n",
    "\n",
    "        alpha=0.6, color='blue', width=5)\n",
    "\n",
    "plt.show()"
   ]
  },
  {
   "cell_type": "code",
   "execution_count": null,
   "metadata": {},
   "outputs": [],
   "source": [
    "print(Q_TABLE)"
   ]
  },
  {
   "cell_type": "code",
   "execution_count": null,
   "metadata": {},
   "outputs": [],
   "source": []
  }
 ],
 "metadata": {
  "kernelspec": {
   "display_name": "Python 3",
   "language": "python",
   "name": "python3"
  },
  "language_info": {
   "codemirror_mode": {
    "name": "ipython",
    "version": 3
   },
   "file_extension": ".py",
   "mimetype": "text/x-python",
   "name": "python",
   "nbconvert_exporter": "python",
   "pygments_lexer": "ipython3",
   "version": "3.8.5"
  }
 },
 "nbformat": 4,
 "nbformat_minor": 4
}
