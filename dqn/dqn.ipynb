{
 "cells": [
  {
   "cell_type": "code",
   "execution_count": 1,
   "metadata": {},
   "outputs": [],
   "source": [
    "import math\n",
    "import torch\n",
    "from torch import optim\n",
    "import torch.nn as nn\n",
    "import gym\n",
    "import numpy as np\n",
    "import matplotlib.pyplot as plt"
   ]
  },
  {
   "cell_type": "code",
   "execution_count": 2,
   "metadata": {},
   "outputs": [
    {
     "name": "stdout",
     "output_type": "stream",
     "text": [
      "cpu\n"
     ]
    }
   ],
   "source": [
    "# selecting the available device (cpu/gpu)\n",
    "\n",
    "use_cuda = torch.cuda.is_available()\n",
    "device = torch.device(\"cuda:0\" if use_cuda else \"cpu\")\n",
    "print(device)"
   ]
  },
  {
   "cell_type": "code",
   "execution_count": 3,
   "metadata": {},
   "outputs": [
    {
     "data": {
      "text/plain": [
       "<torch._C.Generator at 0x7f0144090790>"
      ]
     },
     "execution_count": 3,
     "metadata": {},
     "output_type": "execute_result"
    }
   ],
   "source": [
    "env = gym.make('CartPole-v1',render_mode='rgb_array')\n",
    "seed = 100\n",
    "env.reset(seed=seed)\n",
    "torch.manual_seed(seed)\n",
    "random.seed(seed)"
   ]
  },
  {
   "cell_type": "code",
   "execution_count": 5,
   "metadata": {},
   "outputs": [],
   "source": [
    "#params\n",
    "number_of_episodes = 700\n",
    "max_steps = 1000\n",
    "learning_rate = .01\n",
    "discount_factor = .99\n",
    "hidden_layer_size = 64\n",
    "egreedy = .9\n",
    "egreedy_final = .02\n",
    "egreedy_decay = 500\n",
    "replay_buffer_size = 2000\n",
    "batch_size = 32\n",
    "update_target_frequency = 200\n"
   ]
  },
  {
   "cell_type": "code",
   "execution_count": 6,
   "metadata": {},
   "outputs": [
    {
     "name": "stdout",
     "output_type": "stream",
     "text": [
      "Total number of States : 4\n",
      "Total number of Actions : 2\n"
     ]
    }
   ],
   "source": [
    "number_of_states = env.observation_space.shape[0]\n",
    "\n",
    "number_of_actions = env.action_space.n\n",
    "\n",
    "print('Total number of States : {}'.format(number_of_states))\n",
    "\n",
    "print('Total number of Actions : {}'.format(number_of_actions))"
   ]
  },
  {
   "cell_type": "code",
   "execution_count": 7,
   "metadata": {},
   "outputs": [],
   "source": [
    "#epsilon decay\n",
    "\n",
    "def calculate_epsilon(steps_done):\n",
    "    '''\n",
    "    function for decaying the epsilon values after every step\n",
    "    \n",
    "    decays epsilon with increasing steps\n",
    "    \n",
    "    param: stepsdone(int): number of steps completed\n",
    "    \n",
    "    returns: int - decayed epsilon\n",
    "    \n",
    "    '''\n",
    "    epsilon = egreedy_final + (egreedy - egreedy_final)\\\n",
    "                *np.exp(-1.0* steps_done/egreedy_decay)\n",
    "    return epsilon"
   ]
  },
  {
   "cell_type": "code",
   "execution_count": null,
   "metadata": {},
   "outputs": [],
   "source": []
  },
  {
   "cell_type": "markdown",
   "metadata": {},
   "source": [
    "CLASStorch.nn.Linear(in_features, out_features, bias=True, device=None, dtype=None)[SOURCE]\n",
    "Applies a linear transformation to the incoming data: y = xA^T + by=xA \n",
    "T\n",
    " +b\n",
    "\n",
    "This module supports TensorFloat32.\n",
    "\n",
    "On certain ROCm devices, when using float16 inputs this module will use different precision for backward.\n",
    "\n",
    "Parameters:\n",
    "in_features (int) – size of each input sample\n",
    "\n",
    "out_features (int) – size of each output sample\n",
    "\n",
    "bias (bool) – If set to False, the layer will not learn an additive bias. Default: True\n",
    "\n",
    "\n",
    "m = nn.Linear(20, 30)\n",
    "input = torch.randn(128, 20)\n",
    "output = m(input)\n",
    "print(output.size()) "
   ]
  },
  {
   "cell_type": "code",
   "execution_count": 8,
   "metadata": {},
   "outputs": [],
   "source": [
    "'''\n",
    " accepts the number of states as inputs and outputs Q values for the \n",
    " number of actions present in the environment\n",
    " \n",
    " as a network with a hidden layer of size \n",
    "'''\n",
    "class DQN(nn.Module):\n",
    "    def __init__(self, hidden_layer_size):\n",
    "        super().__init__() # init of the super class \n",
    "        self.hidden_layer_size = hidden_layer_size\n",
    "        self.fc1 = nn.Linear(number_of_states,self.hidden_layer_size)\n",
    "        self.fc2 = nn.Linear(self.hidden_layer_size,number_of_actions)\n",
    "   \n",
    "    def forward(self,x):\n",
    "        output = torch.tanh(self.fc1(x))\n",
    "        output = self.fc2(output)\n",
    "        return output\n",
    "    \n",
    "    \n",
    " ''' \n",
    "the constructor will contain the following variables:\n",
    "    -capacity, which indicates the maximum size of the replay buffer\n",
    "    -buffer, which is an empty Python list that acts as the memory buffer\n",
    "    - pointer, which points to the current location of the memory buffer while\n",
    "      pushing the memory to the buffer\n",
    "\n",
    "The class will contain the push function, which checks whether there is any \n",
    "space in the buffer using the pointer variable\n",
    "    -If there is an empty space, push adds an experience tuple at the end of \n",
    "     the buffer,\n",
    "    -else the function will replace the memory from the \n",
    "     starting point of the buffer\n",
    "        \n",
    "sample function, which will return the experience tuple of the batch size, and \n",
    "\n",
    "the __len__ function, which will return the length of the current buffer,\n",
    "'''\n",
    "\n",
    "class ExperienceReplay(object):\n",
    "    def __init__(self, capacity):\n",
    "        self.capacity = capacity\n",
    "        self.buffer = []\n",
    "        self.pointer = 0\n",
    "        \n",
    "    def push(self, state, action, new_state, reward, done):\n",
    "        experience = (state, action, new_state, reward, done)\n",
    "        if self.pointer >= len(self.buffer):\n",
    "            self.buffer.append(experience)\n",
    "        else: \n",
    "            self.buffer[self.pointer] = experience\n",
    "            self.pointer = (self.pointer+1)%self.capacity\n",
    "    \n",
    "    def sample(self, batch_size):\n",
    "        return zip(*random.sample(self.buffer, batch_size))\n",
    "   \n",
    "    def __len__(self):\n",
    "        return len(self.buffer)\n",
    "            \n",
    "               \n",
    "    \n",
    "'''\n",
    "function will create an instance of the DQN class within which the hidden \n",
    "layer size is passed. \n",
    "\n",
    "define the MSE as a loss criterion\n",
    " \n",
    "define Adam as the optimizer with model parameters and a predefined\n",
    " learning rate\n",
    " \n",
    "Create a replica of the normal DQN network and name it target_dqn.\n",
    "    \n",
    "target_dqn_update_counter to periodically update the weights of the \n",
    "target DQN from the DQN network. \n",
    "\n",
    "Add the following steps. memory.sample(BATCH_SIZE) will randomly\n",
    "pull the experiences from the replay buffer for training\n",
    "\n",
    "Pass new_state in the target network to get the target Q values \n",
    "from the target network.\n",
    "\n",
    "Finally, update the weights of the target network from the normal or predicted DQN after a \n",
    "certain iteration is specified in UPDATE_TARGET_FREQUENCY\n",
    "'''   \n",
    "    \n",
    "class DQN_Agent(object):\n",
    "    def __init__(self):\n",
    "        self.dqn = DQN(hidden_layer_size).to(device) #moves model to cpu or gpu\n",
    "        self.target_dqn = DQN(hidden_layer_size).to(device)\n",
    "        self.criterion = torch.nn.MSELoss()\n",
    "        self.optimizer = optim.Adam(params=self.dqn.parameters(), \\\n",
    "                                                lr=learning_rate)\n",
    "        self.target_dqn_update_counter = 0 \n",
    "        \n",
    "\n",
    "    '''\n",
    "    The select_action function passes the state through \n",
    "    the DQN to obtain the Q values\n",
    "\n",
    "    selects the action with the highest\n",
    "    Q value during exploitation\n",
    "\n",
    "    The if statement decides whether the exploration \n",
    "    should be carried out or not\n",
    "\n",
    "    function will pass the state through the DQN to get the Q value\n",
    "\n",
    "    select the action with the highest Q value using the torch.max operation \n",
    "    during the exploitation phase\n",
    "\n",
    "    During this process, gradient computation is not required; that's why we use \n",
    "    the torch.no_grad() function to turn off the gradient calculation\n",
    "\n",
    "    '''\n",
    "\n",
    "    def select_action(self,state, egreedy):\n",
    "        random_for_egreedy = torch.rand(1)[0]\n",
    "        if random_for_egreedy > egreedy: #will become more likely with more steps\n",
    "            with torch.no_grad():\n",
    "                state = torch.Tensor(state).to(device)#moves tensor to cpu or gpu\n",
    "                q_values = self.dqn(state)\n",
    "                action = torch.max(q_values,0)[1]# will get only indices of highest value\n",
    "                action = action.item() # gets float from object tensor\n",
    "        else:\n",
    "            action = env.action_space.sample()\n",
    "        return action\n",
    "\n",
    "    '''\n",
    "    \n",
    "    \n",
    "    \n",
    "    If the episode is ended, the target Q value will be the reward\n",
    "    obtained; \n",
    "\n",
    "    otherwise, use the Bellman equation to estimate the target Q value\n",
    "\n",
    "\n",
    "    if the episode ended then the loss will be [Q(s,a;theta) - r]^2\n",
    "\n",
    "    otherwise\n",
    "    [Q(s,a,theta) - (r(s.a)+gamma*maxQ(s',a,theta))]^2\n",
    "\n",
    "\n",
    "\n",
    "\n",
    "    '''\n",
    "\n",
    "\n",
    "    def optimize(self):\n",
    "        \n",
    "        if (batch_size > len(memory)):\n",
    "            return \n",
    "        state, action, new_state, reward, done = memory.sample(batch_size)\n",
    "        \n",
    "        state = torch.Tensor(state).to(device) #moves tensor to cpu or gpu\n",
    "       \n",
    "        new_state = torch.Tensor(new_state).to(device)\n",
    "        reward = torch.Tensor([reward]).to(device)\n",
    "        if done: #finished game no more steps needed\n",
    "            target_value = reward\n",
    "        else:\n",
    "            new_state_values = self.dqn(new_state).detach() #tensor.detach() creates a tensor that shares storage\n",
    "                                                            #with tensor that does not require grad. It detaches \n",
    "                                                            #the output from the computational graph. \n",
    "                                                            #So no gradient will be backpropagated along this variabl\n",
    "\n",
    "            max_new_state_values = torch.max(new_state_values)\n",
    "            target_value = reward + discount_factor * max_new_state_values\n",
    "\n",
    "        predicted_value = self.dqn(state)[action].view(-1)\n",
    "        loss = self.criterion(predicted_value, target_value)\n",
    "\n",
    "        self.optimizer.zero_grad() #  sets all gradients to zero\n",
    "        loss.backward() #loss.backward() computes dloss/dx for every parameter \n",
    "                        #x which has requires_grad=True.  x.grad += dloss/dx\n",
    "        self.optimizer.step() #optimizer.step updates the value of x using the gradient x.grad. \n",
    "                            #x += -lr * x.grad gradient descent"
   ]
  },
  {
   "cell_type": "code",
   "execution_count": 9,
   "metadata": {},
   "outputs": [],
   "source": [
    "dqn_agent = DQN_Agent()"
   ]
  },
  {
   "cell_type": "code",
   "execution_count": null,
   "metadata": {},
   "outputs": [],
   "source": []
  },
  {
   "cell_type": "code",
   "execution_count": 29,
   "metadata": {},
   "outputs": [],
   "source": []
  },
  {
   "cell_type": "code",
   "execution_count": 30,
   "metadata": {},
   "outputs": [],
   "source": []
  },
  {
   "cell_type": "code",
   "execution_count": 10,
   "metadata": {},
   "outputs": [],
   "source": [
    "'''\n",
    "instantiate the DQN agent using the class created earlier. \n",
    "\n",
    "Create a steps_total empty list to collect the total number of \n",
    "steps for each episode.\n",
    "\n",
    "Initialize steps_counter with zero and use it to calculate the\n",
    "decayed epsilon value for each step.\n",
    "\n",
    "Use two loops during the training process\n",
    "    -The first one is to play the game for a certain number of steps.\n",
    "    \n",
    "    -The second loop ensures that each episode goes on for a fixed number of steps.\n",
    "    \n",
    "Using the present state and epsilon value, you select the action to perform. \n",
    "\n",
    "Once you take the action, the environment returns the new_state, reward, and done flags\n",
    "\n",
    "Using the optimize function, perform one step of gradient descent to optimize the DQN. \n",
    "\n",
    "Now make the new state the present state for the next iteration.\n",
    "\n",
    "check whether the episode is over or not. If the episode is over, you can \n",
    "collect and record the reward for the current episode\n",
    "\n",
    "'''\n",
    "\n",
    "\n",
    "# instantiating the DQN Agent\n",
    "\n",
    "dqn_agent = DQN_Agent()\n",
    "steps_total = []\n",
    "steps_counter = 0 \n",
    "for episode in range(number_of_episodes):\n",
    "    state = env.reset()[0]\n",
    "    done = False\n",
    "    step = 0\n",
    "    for idx in range(max_steps):\n",
    "        step += 1\n",
    "        steps_counter += 1\n",
    "        egreedy = calculate_epsilon(steps_counter) # decays until all episodes are fin\n",
    "        action = dqn_agent.select_action(state, egreedy)\n",
    "        new_state, reward, done, _, info = env.step(action)\n",
    "        dqn_agent.optimize(state, action, new_state, reward, done)\n",
    "        state = new_state\n",
    "        \n",
    "        if done:\n",
    "            steps_total.append(step)\n",
    "            break\n",
    "            \n",
    "            \n",
    "            \n",
    "            \n",
    "            \n",
    "        "
   ]
  },
  {
   "cell_type": "code",
   "execution_count": 12,
   "metadata": {},
   "outputs": [
    {
     "name": "stdout",
     "output_type": "stream",
     "text": [
      "Average reward: 150.20\n",
      "Average reward (last 100 episodes): 375.43\n"
     ]
    }
   ],
   "source": [
    "print(\"Average reward: %.2f\" % (sum(steps_total)/number_of_episodes))\n",
    "print(\"Average reward (last 100 episodes): %.2f\" % (sum(steps_total[-100:])/100))"
   ]
  },
  {
   "cell_type": "code",
   "execution_count": 13,
   "metadata": {},
   "outputs": [
    {
     "data": {
      "image/png": "[encoded data removed]",
      "text/plain": [
       "<Figure size 864x360 with 1 Axes>"
      ]
     },
     "metadata": {
      "needs_background": "light"
     },
     "output_type": "display_data"
    }
   ],
   "source": [
    "plt.figure(figsize=(12,5))\n",
    "plt.title(\"Rewards Collected\")\n",
    "plt.bar(np.arange(len(steps_total)), steps_total, alpha=0.5, color='green', width=6)\n",
    "plt.show()"
   ]
  },
  {
   "cell_type": "code",
   "execution_count": null,
   "metadata": {},
   "outputs": [],
   "source": []
  },
  {
   "cell_type": "code",
   "execution_count": null,
   "metadata": {},
   "outputs": [],
   "source": []
  },
  {
   "cell_type": "code",
   "execution_count": null,
   "metadata": {},
   "outputs": [],
   "source": []
  },
  {
   "cell_type": "code",
   "execution_count": null,
   "metadata": {},
   "outputs": [],
   "source": []
  }
 ],
 "metadata": {
  "kernelspec": {
   "display_name": "Python 3",
   "language": "python",
   "name": "python3"
  },
  "language_info": {
   "codemirror_mode": {
    "name": "ipython",
    "version": 3
   },
   "file_extension": ".py",
   "mimetype": "text/x-python",
   "name": "python",
   "nbconvert_exporter": "python",
   "pygments_lexer": "ipython3",
   "version": "3.8.5"
  }
 },
 "nbformat": 4,
 "nbformat_minor": 4
}
