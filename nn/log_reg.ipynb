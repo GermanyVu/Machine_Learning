{
 "cells": [
  {
   "cell_type": "code",
   "execution_count": 1,
   "metadata": {},
   "outputs": [
    {
     "data": {
      "text/html": [
       "<div>\n",
       "<style scoped>\n",
       "    .dataframe tbody tr th:only-of-type {\n",
       "        vertical-align: middle;\n",
       "    }\n",
       "\n",
       "    .dataframe tbody tr th {\n",
       "        vertical-align: top;\n",
       "    }\n",
       "\n",
       "    .dataframe thead th {\n",
       "        text-align: right;\n",
       "    }\n",
       "</style>\n",
       "<table border=\"1\" class=\"dataframe\">\n",
       "  <thead>\n",
       "    <tr style=\"text-align: right;\">\n",
       "      <th></th>\n",
       "      <th>test1</th>\n",
       "      <th>test2</th>\n",
       "      <th>accept_reject</th>\n",
       "    </tr>\n",
       "  </thead>\n",
       "  <tbody>\n",
       "    <tr>\n",
       "      <th>0</th>\n",
       "      <td>30.286711</td>\n",
       "      <td>43.894998</td>\n",
       "      <td>0</td>\n",
       "    </tr>\n",
       "    <tr>\n",
       "      <th>1</th>\n",
       "      <td>35.847409</td>\n",
       "      <td>72.902198</td>\n",
       "      <td>0</td>\n",
       "    </tr>\n",
       "    <tr>\n",
       "      <th>2</th>\n",
       "      <td>60.182599</td>\n",
       "      <td>86.308552</td>\n",
       "      <td>1</td>\n",
       "    </tr>\n",
       "    <tr>\n",
       "      <th>3</th>\n",
       "      <td>79.032736</td>\n",
       "      <td>75.344376</td>\n",
       "      <td>1</td>\n",
       "    </tr>\n",
       "    <tr>\n",
       "      <th>4</th>\n",
       "      <td>45.083277</td>\n",
       "      <td>56.316372</td>\n",
       "      <td>0</td>\n",
       "    </tr>\n",
       "    <tr>\n",
       "      <th>...</th>\n",
       "      <td>...</td>\n",
       "      <td>...</td>\n",
       "      <td>...</td>\n",
       "    </tr>\n",
       "    <tr>\n",
       "      <th>94</th>\n",
       "      <td>83.489163</td>\n",
       "      <td>48.380286</td>\n",
       "      <td>1</td>\n",
       "    </tr>\n",
       "    <tr>\n",
       "      <th>95</th>\n",
       "      <td>42.261701</td>\n",
       "      <td>87.103851</td>\n",
       "      <td>1</td>\n",
       "    </tr>\n",
       "    <tr>\n",
       "      <th>96</th>\n",
       "      <td>99.315009</td>\n",
       "      <td>68.775409</td>\n",
       "      <td>1</td>\n",
       "    </tr>\n",
       "    <tr>\n",
       "      <th>97</th>\n",
       "      <td>55.340018</td>\n",
       "      <td>64.931938</td>\n",
       "      <td>1</td>\n",
       "    </tr>\n",
       "    <tr>\n",
       "      <th>98</th>\n",
       "      <td>74.775893</td>\n",
       "      <td>89.529813</td>\n",
       "      <td>1</td>\n",
       "    </tr>\n",
       "  </tbody>\n",
       "</table>\n",
       "<p>99 rows × 3 columns</p>\n",
       "</div>"
      ],
      "text/plain": [
       "        test1      test2  accept_reject\n",
       "0   30.286711  43.894998              0\n",
       "1   35.847409  72.902198              0\n",
       "2   60.182599  86.308552              1\n",
       "3   79.032736  75.344376              1\n",
       "4   45.083277  56.316372              0\n",
       "..        ...        ...            ...\n",
       "94  83.489163  48.380286              1\n",
       "95  42.261701  87.103851              1\n",
       "96  99.315009  68.775409              1\n",
       "97  55.340018  64.931938              1\n",
       "98  74.775893  89.529813              1\n",
       "\n",
       "[99 rows x 3 columns]"
      ]
     },
     "execution_count": 1,
     "metadata": {},
     "output_type": "execute_result"
    }
   ],
   "source": [
    "import pandas as pd\n",
    "import matplotlib.pyplot as plt\n",
    "import seaborn as sns\n",
    "import numpy as np\n",
    "from sklearn.preprocessing import LabelEncoder\n",
    "from sklearn import metrics\n",
    "from scipy.linalg import expm, sinm, cosm\n",
    "\n",
    "df = pd.read_csv(\"ex2data1.csv\")\n",
    "df.columns = [\"test1\", \"test2\", \"accept_reject\"]\n",
    "df"
   ]
  },
  {
   "cell_type": "code",
   "execution_count": 2,
   "metadata": {},
   "outputs": [],
   "source": [
    "Y = df[\"accept_reject\"]\n",
    "df = df.drop([\"accept_reject\"], axis=1)"
   ]
  },
  {
   "cell_type": "code",
   "execution_count": 3,
   "metadata": {},
   "outputs": [],
   "source": [
    "def fill_missing(df, feature, method):\n",
    "    if method == \"mode\":\n",
    "        df[feature] = df[feature].fillna(df[feature].mode()[0])\n",
    "    elif method == \"median\":\n",
    "        df[feature] = df[feature].fillna(df[feature].median())\n",
    "    else:\n",
    "        df[feature] = df[feature].fillna(df[feature].mean())\n",
    "\n",
    "\n",
    "# this part is made to fill in na\n",
    "features_missing = df.columns[df.isna().any()]\n",
    "for feature in features_missing:\n",
    "    fill_missing(df, feature=feature, method=\"median\")\n",
    "Y.fillna(Y.median(), inplace=True)"
   ]
  },
  {
   "cell_type": "code",
   "execution_count": 4,
   "metadata": {},
   "outputs": [
    {
     "name": "stdout",
     "output_type": "stream",
     "text": [
      "(99, 1)\n",
      "(99, 2)\n",
      "(99, 1)\n"
     ]
    }
   ],
   "source": [
    "# convert dataframe to numpy\n",
    "X = df.to_numpy()\n",
    "y = Y.to_numpy()[:, np.newaxis]\n",
    "m, n = X.shape\n",
    "print(y.shape)\n",
    "\n",
    "print(X.shape)\n",
    "print(y.shape)"
   ]
  },
  {
   "cell_type": "code",
   "execution_count": 5,
   "metadata": {},
   "outputs": [],
   "source": [
    "# feature scaling\n",
    "mu = X.mean(0)\n",
    "sigma = X.std(0)  # standard deviation: max(x)-min(x)\n",
    "xn = (X - mu) / sigma"
   ]
  },
  {
   "cell_type": "code",
   "execution_count": 6,
   "metadata": {},
   "outputs": [
    {
     "name": "stdout",
     "output_type": "stream",
     "text": [
      "(3, 1)\n",
      "(3, 99)\n"
     ]
    }
   ],
   "source": [
    "# adding ones column\n",
    "xn_plus_one = np.hstack((np.ones((m, 1)), xn)).transpose()\n",
    "\n",
    "num_iters = 10000\n",
    "alpha = 0.1\n",
    "theta = np.zeros((n + 1, 1))\n",
    "\n",
    "print(theta.shape)\n",
    "print(xn_plus_one.shape)"
   ]
  },
  {
   "cell_type": "code",
   "execution_count": null,
   "metadata": {},
   "outputs": [],
   "source": []
  },
  {
   "cell_type": "code",
   "execution_count": 7,
   "metadata": {},
   "outputs": [
    {
     "name": "stdout",
     "output_type": "stream",
     "text": [
      "Best theta computed from gradient descent: \n",
      " [[1.75579328]\n",
      " [3.90246378]\n",
      " [3.70345333]] \n",
      "[0.67797907]\n"
     ]
    },
    {
     "data": {
      "image/png": "[encoded data removed]",
      "text/plain": [
       "<Figure size 432x288 with 1 Axes>"
      ]
     },
     "metadata": {
      "needs_background": "light"
     },
     "output_type": "display_data"
    }
   ],
   "source": [
    "# j(theta)= 1/m Sum(-ylog(h(x)) - (1-y)log(1-h(x)))\n",
    "def compute_cost(x, y, theta, reg_constant):\n",
    "    m = len(y)  # number of training examples\n",
    "\n",
    "    z = theta.T @ x\n",
    "    sigmoid = 1 / (1 + np.exp(-z))\n",
    "    J = 1 / m * (-np.log(sigmoid) @ y - np.log(1 - sigmoid) @ (1 - y))\n",
    "\n",
    "    return J[0]\n",
    "\n",
    "\n",
    "def cost_function_reg(theta, x, y, reg_constant, num_iters):\n",
    "    # %COSTFUNCTIONREG Compute cost and gradient for logistic regression with regularization\n",
    "    # %   J = COSTFUNCTIONREG(theta, X, y, lambda) computes the cost of using\n",
    "    # %   theta as the parameter for regularized logistic regression and the\n",
    "    # %   gradient of the cost w.r.t. to the parameters.\n",
    "\n",
    "    m = len(y)  # number of training examples\n",
    "    J_history = []\n",
    "\n",
    "    # repeat until convergance\n",
    "    for i in range(num_iters):\n",
    "        z = theta.T @ x\n",
    "        sigmoid = 1 / (1 + np.exp(-z))\n",
    "\n",
    "        theta -= alpha / m * ((sigmoid - y.T) @ x.T).T\n",
    "        # Save the cost J in every iteration\n",
    "        J_history.append(compute_cost(xn_plus_one, y, theta, 0))\n",
    "    return theta, J_history\n",
    "\n",
    "\n",
    "theta, J_history = cost_function_reg(theta, xn_plus_one, y, 0, num_iters)\n",
    "# Display gradient descent's result\n",
    "print(\"Best theta computed from gradient descent: \")\n",
    "print(f\" {theta} \")\n",
    "print(J_history[0])\n",
    "\n",
    "\n",
    "plt.plot(J_history)\n",
    "plt.show()"
   ]
  },
  {
   "cell_type": "code",
   "execution_count": 8,
   "metadata": {},
   "outputs": [],
   "source": [
    "x_1 = []\n",
    "x_2 = []\n",
    "y_1 = []\n",
    "y_2 = []\n",
    "\n",
    "for i in range(m):\n",
    "    if y[i] == 1:\n",
    "        x_1.append(xn_plus_one.T[i, 1])\n",
    "        y_1.append(xn_plus_one.T[i, 2])\n",
    "\n",
    "    else:\n",
    "        x_2.append(xn_plus_one.T[i, 1])\n",
    "        y_2.append(xn_plus_one.T[i, 2])"
   ]
  },
  {
   "cell_type": "code",
   "execution_count": 9,
   "metadata": {},
   "outputs": [
    {
     "name": "stdout",
     "output_type": "stream",
     "text": [
      "[-1.85744578 -1.56789059 -0.30071501  0.6808443  -1.08696289 -0.25259733\n",
      "  0.47214129  0.52806847  0.96203604  1.5571501   0.47156396  0.85134368\n",
      "  0.17740711 -1.37569744 -0.62416104  0.16207486  0.10358327  0.24494002\n",
      "  0.57389144  0.07365099  1.23509791 -0.80309326 -1.65304598  0.62311526\n",
      " -0.19196765  0.74111446  1.41410038 -0.21492127 -1.41488326 -0.23840128\n",
      "  1.01263411 -0.72117446 -0.72443284 -1.33932249 -0.58958263 -1.66848842\n",
      " -0.09272022  0.45987878 -1.65452591  0.93441582 -0.75034814  1.48330262\n",
      "  0.85455653 -0.77638236 -0.19448469  0.58504787  1.65660941 -0.20227525\n",
      "  1.33341969  0.72833799  1.73476532  1.28039711 -1.63677602 -0.81602227\n",
      " -0.85246305  1.65005018 -1.73817602  0.4317308   0.30403897  0.49145292\n",
      " -1.59711824 -0.50529349 -1.86931232 -1.10857348  0.03141388 -1.32783249\n",
      " -0.87923386  0.74576932  0.04109006 -1.73059266 -0.09988885  0.33268009\n",
      " -0.28638037 -0.37057669  1.76368236 -0.97339487 -0.80708344 -0.28650167\n",
      "  0.84715754  1.19537346  1.50366991  0.07090316 -0.45400862  0.75030904\n",
      "  0.13074734 -1.24358544  0.49572751  0.66015559 -0.70867598  1.46512768\n",
      "  1.27528559 -0.54547498  0.44443636  1.24389965  0.91289817 -1.23388728\n",
      "  1.73697742 -0.55287664  0.4591831 ]\n"
     ]
    },
    {
     "data": {
      "text/plain": [
       "[<matplotlib.lines.Line2D at 0x7f141062ae50>]"
      ]
     },
     "execution_count": 9,
     "metadata": {},
     "output_type": "execute_result"
    },
    {
     "data": {
      "image/png": "[encoded data removed]",
      "text/plain": [
       "<Figure size 432x288 with 1 Axes>"
      ]
     },
     "metadata": {
      "needs_background": "light"
     },
     "output_type": "display_data"
    }
   ],
   "source": [
    "print(xn_plus_one.T[:, 1])\n",
    "plt.scatter(x_1, y_1, color=\"r\")\n",
    "plt.scatter(x_2, y_2, color=\"g\")\n",
    "slope = lambda x: -theta[0] / theta[2] - x * theta[1] / theta[2]\n",
    "\n",
    "min_point = min((xn_plus_one.T[:, 1])) - 0.5\n",
    "max_point = max((xn_plus_one.T[:, 1])) + 0.5\n",
    "\n",
    "\n",
    "points = np.array([min_point, max_point])\n",
    "plt.plot(points, slope(points))"
   ]
  },
  {
   "cell_type": "code",
   "execution_count": null,
   "metadata": {},
   "outputs": [],
   "source": []
  },
  {
   "cell_type": "code",
   "execution_count": null,
   "metadata": {},
   "outputs": [],
   "source": []
  },
  {
   "cell_type": "code",
   "execution_count": null,
   "metadata": {},
   "outputs": [],
   "source": []
  }
 ],
 "metadata": {
  "kernelspec": {
   "display_name": "Python 3",
   "language": "python",
   "name": "python3"
  },
  "language_info": {
   "codemirror_mode": {
    "name": "ipython",
    "version": 3
   },
   "file_extension": ".py",
   "mimetype": "text/x-python",
   "name": "python",
   "nbconvert_exporter": "python",
   "pygments_lexer": "ipython3",
   "version": "3.8.5"
  }
 },
 "nbformat": 4,
 "nbformat_minor": 4
}
